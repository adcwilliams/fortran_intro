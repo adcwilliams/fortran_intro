{
 "cells": [
  {
   "cell_type": "markdown",
   "metadata": {},
   "source": [
    "# Control Constructs"
   ]
  },
  {
   "cell_type": "markdown",
   "metadata": {},
   "source": [
    "## Expressions\n",
    "\n",
    "Any programming language must be able to generalise common operations and change functionality depending on certain conditions. Fortran provides a small number of familiar control structures for this purpose, and they generally work by evaluating an _expression_, determining whether the result of that expression is logical _True_ or _False_, and then allowing the control statement to branch according to this result.\n",
    "\n",
    "An expression is simply a test of truth, and can be as simple as `x < 10`, meaning _is the value of the variable x less than the number ten_. If it is, the result of the expression is _True_, otherwise _False_. A list of the common _relational operators_ used to construct an expression follows:\n",
    "\n",
    "| Operator | Purpose                  |\n",
    "| -------- | ------------------------ |\n",
    "| `<`      | Less than                |\n",
    "| `<=`     | Less than or equal to    |\n",
    "| `==`     | Exactly equal to         |\n",
    "| `/=`     | Not equal to             |\n",
    "| `>`      | Greater than             |\n",
    "| `>=`     | Greater than or equal to |\n",
    "\n",
    "These operators are similar to those used in other programming languages and replace the older Fortran-77 style operators whereby, for example, _less than_ was represented by `.lt.`. It is possible to test the outcome of expressions simply by printing out the result, as shown in the following example:"
   ]
  },
  {
   "cell_type": "code",
   "execution_count": null,
   "metadata": {},
   "outputs": [],
   "source": [
    "%num_images: 1\n",
    "program expr_test\n",
    "  Use, intrinsic  :: iso_fortran_env\n",
    "  Implicit none\n",
    "\n",
    "  ! Get size of a single precision float\n",
    "  Integer, parameter  :: sp = REAL32\n",
    "  \n",
    "  ! Declare some test floats\n",
    "  Real(kind=sp) :: x, y\n",
    "  ! Declare some test ints\n",
    "  Integer       :: i, j\n",
    "  ! Declare a variable to hold the logical result of a test expression\n",
    "  Logical       :: test_result\n",
    "  \n",
    "  ! Set the test variables\n",
    "  x = 2.0\n",
    "  y = 3.0\n",
    "  i = 4\n",
    "  j = 6\n",
    "  \n",
    "  ! Evaluate a test expression\n",
    "  test_result = (i < j)\n",
    "  \n",
    "  ! Print out the result\n",
    "  print *, 'Result of test = ', test_result\n",
    "  \n",
    "end program expr_test"
   ]
  },
  {
   "cell_type": "markdown",
   "metadata": {},
   "source": [
    "In addition to the above relational operators, there exist a small number of _logical operators_ that can be used to test logical variables, and also to chain relational operators together to construct more complex expressions. The list of logical operators is shown below:\n",
    "\n",
    "| Operator | Purpose                 |\n",
    "| -------- | ----------------------- |\n",
    "| `.not.`  | Logical negation        |\n",
    "| `.and.`  | Logical intersection    |\n",
    "| `.or.`   | Logical union           |\n",
    "| `.eqv.`  | Logical equivalence     |\n",
    "| `.negv.` | Logical non-equivalence |\n",
    "\n",
    "So, it's possible to write `(x < 10) .and. (x > 3)`, which would return a single logical answer. The significant difference between `.and.` and `.eqv.` is that `.and.` returns _True_ only when both sides of the comparison are _True_. The latter returns _True_ as long as both sides are the same, whether _True_ or _False_."
   ]
  },
  {
   "cell_type": "markdown",
   "metadata": {},
   "source": [
    "### Exercise 1 - _Expressions_\n",
    "\n",
    " * Modify the first program in this section so that it will print out the result of chained expressions using logical operators.\n",
    " * The variables `x` and `y` are floating point variables. What is the result of an equivalence `==` test? Can you expain why?"
   ]
  },
  {
   "cell_type": "markdown",
   "metadata": {},
   "source": [
    "## Control Structures\n",
    "\n",
    "We've seen how Fortran evaluates expressions. There are a number of Fortran constructs that use expressions to change code functionality. \n",
    "\n",
    "### The IF Statement\n",
    "\n",
    "The `IF` statement allows the code to branch into two more alterative paths, depending on a logical evaluation. In it's simplest form, it looks like this:\n",
    "\n",
    "```fortran\n",
    "if (expression) then\n",
    "  ! optional code\n",
    "  print *, 'This code only runs if (expression) is true'\n",
    "end if\n",
    "```\n",
    "A working example follows:"
   ]
  },
  {
   "cell_type": "code",
   "execution_count": null,
   "metadata": {},
   "outputs": [],
   "source": [
    "%num_images: 1\n",
    "program if_test\n",
    "  Implicit none\n",
    "  \n",
    "  ! Declare two variables to use in our expression\n",
    "  Integer :: x, y\n",
    "  \n",
    "  ! Set the initial values\n",
    "  x = 1\n",
    "  y = 10\n",
    "  \n",
    "  ! If x is less than y then print a message\n",
    "  if (x < y) then\n",
    "    print *, \"x really is less than y!\"\n",
    "  end if\n",
    "\n",
    "end program if_test"
   ]
  },
  {
   "cell_type": "markdown",
   "metadata": {},
   "source": [
    "This example only executes an optional section of code if a condition is met, but we can include additional expressions depending on the values in question:"
   ]
  },
  {
   "cell_type": "code",
   "execution_count": null,
   "metadata": {},
   "outputs": [],
   "source": [
    "%num_images: 1\n",
    "program if_else\n",
    "  Implicit none\n",
    "  \n",
    "  ! Declare three variables to use in our expression\n",
    "  Integer :: x, y\n",
    "  Logical :: z\n",
    "  \n",
    "  x = 1\n",
    "  y = 10\n",
    "  z = .true.\n",
    "  \n",
    "  ! Perform two independent tests, executing different sections of code for each.\n",
    "  ! If neither test returns .true. then execute a third section of code.\n",
    "  if ((x < y) .and. (z .eqv. .false.)) then\n",
    "    print *, \"Alternative 1\"\n",
    "  else if ((x < y) .and. (z .eqv. .true.)) then\n",
    "    print *, \"Alternative 2\"\n",
    "  else\n",
    "    print *, \"All other cases\"\n",
    "  end if\n",
    "  \n",
    "end program if_else"
   ]
  },
  {
   "cell_type": "markdown",
   "metadata": {},
   "source": [
    "In the example above we have specified two conditions under which a section of code will be executed, each condition being an expression with sub-expressions joined by logical operators. These kind of chained expressions can get very complicated and hard to interpret, and it's a good idea for readability to separate out the conditions as much as possible and consider using functions or the upcoming _case_ statement to increase readibility."
   ]
  },
  {
   "cell_type": "markdown",
   "metadata": {},
   "source": [
    "### Exercise 2 - _If_\n",
    "\n",
    " * As an example of the dangers of complicated expressions, try removing the `()` brackets surrounding the subexpressions `x < y` and `z .eqv. .false.` in the above example. This is still a valid expression. Does it produce the expected results. If not, can you see why?"
   ]
  },
  {
   "cell_type": "markdown",
   "metadata": {},
   "source": [
    "### The Case Statement\n",
    "\n",
    "The _Case_ statement is similar to _If_ in that it allows different sections of code to be executed in different circumstances. Unlike, _If_, however, there can only be a single expression. It is not possible to construct different expressions for each test as in the above example. This can be a restriction, but can also make branches where there are a lot of different alternatives a lot easier to read. It also makes it easy to deal with ranges of values, as we will see.\n",
    "\n",
    "A simple _Case_ construct looks like this:\n",
    "\n",
    "```fortran\n",
    "select case (expression)\n",
    "  case (condition 1)\n",
    "    print *, 'execute section 1'\n",
    "  case (condition 2)\n",
    "    print *, 'execute section 2'\n",
    "  case default\n",
    "    print *, 'none of the above conditions met'\n",
    "end select\n",
    "```\n",
    "\n",
    "The _expression_ must be a scalar of type _character_, _integer_ or _logical_, and each condition is an equivalence test against the expression. There is also a special case, _default_, which is executed when none of the previous conditions are met. In practice, a case statement looks like the following:"
   ]
  },
  {
   "cell_type": "code",
   "execution_count": null,
   "metadata": {},
   "outputs": [],
   "source": [
    "%num_images: 1\n",
    "program case_example\n",
    "  Implicit none\n",
    "  \n",
    "  ! Declare and assign a test integer\n",
    "  Integer :: x\n",
    "  x = 25\n",
    "  \n",
    "  ! Test the integer against a set of values.\n",
    "  ! Where it matches, perform the associated action.\n",
    "  select case (x)\n",
    "    case (1)\n",
    "      print *, 'x = 1'\n",
    "    case (25)\n",
    "      print *, 'x = 25'\n",
    "    case default\n",
    "      print *, 'x is not any of the tested values'\n",
    "  end select\n",
    "  \n",
    "end program case_example"
   ]
  },
  {
   "cell_type": "markdown",
   "metadata": {},
   "source": [
    "It is also possible to include multiple tests in each condition, including ranges of values:"
   ]
  },
  {
   "cell_type": "code",
   "execution_count": null,
   "metadata": {},
   "outputs": [],
   "source": [
    "%num_images: 1\n",
    "program case_range\n",
    "  Implicit none\n",
    "  \n",
    "  ! Declare and assign a test integer\n",
    "  Integer :: x\n",
    "  x = 25\n",
    "  \n",
    "  ! Test the integer against a set of specific values and ranges.\n",
    "  select case (x)\n",
    "    case (1:5)\n",
    "      print *, 'x is between 1 and 5'\n",
    "    case (6:10, 15:20)\n",
    "      print *, 'x is between 6 and 10 or between 15 and 20'\n",
    "    case (25)\n",
    "      print *, 'x = 25'\n",
    "    case (30:)\n",
    "      print *, 'x is greater than 30'\n",
    "    case default\n",
    "      print *, 'x is not any of the tested values'\n",
    "  end select\n",
    "  \n",
    "end program case_range"
   ]
  },
  {
   "cell_type": "markdown",
   "metadata": {},
   "source": [
    "### Exercise 3 - _Case_\n",
    "\n",
    " * Try changing the value of `x` in the above example and ensure you understand how the specification of range works.\n",
    " * Range also works for characters as Fortran understands the order of letters in the alphabet. Try adding a new example that performs different operations depending on when the value of a character is either a single letter or a range of letters."
   ]
  },
  {
   "cell_type": "markdown",
   "metadata": {},
   "source": [
    "### The Do Statement\n",
    "\n",
    "The previous two constructs allow code to branch depending upon the outcome of a tested expression. The `Do` statement is used to define a loop whereby a section of code is repeated as long as a condition is met. This allows us to _iterate_ over a range of values without having to duplicate the same section of code each time. The syntaxt of a Do loop looks like this:\n",
    "\n",
    "```fortran\n",
    "do variable = expr1, expr2, [stride]\n",
    "  print *, 'The value of variable = ', variable\n",
    "end do\n",
    "```\n",
    "\n",
    "This means the the variable named `variable` will be assigned an initial value equal to `expr1`, the code enclosed by the do statement will be executed, the value of `variable` will be incremented, and the process will be repeated until `variable` is equal to `expr2`, at which point the loop will terminate and the rest of the program will continue. The optional argument, _stride_, defines how the value of `variable` will be incremented each time through the loop. It can be negative but must not be zero. If not set then it defaults to 1. A practical example is shown below:"
   ]
  },
  {
   "cell_type": "code",
   "execution_count": null,
   "metadata": {},
   "outputs": [],
   "source": [
    "%num_images: 1\n",
    "program case_range\n",
    "  Implicit none\n",
    "  \n",
    "  ! Declare working variables for the do loop\n",
    "  Integer :: x, start_count, end_count, stride\n",
    "  \n",
    "  ! Set limits for the loop\n",
    "  start_count = 1\n",
    "  end_count = 20\n",
    "  stride = 1\n",
    "  \n",
    "  ! Iterate over the limits of the loop, incrementing x by two each time.\n",
    "  do x = start_count, end_count, stride\n",
    "    print *, 'x = ', x\n",
    "  end do\n",
    "  \n",
    "end program"
   ]
  },
  {
   "cell_type": "markdown",
   "metadata": {},
   "source": [
    "Unlike some languages, Fortran does not allow a loop to overflow it's bounds. This means that when _stride_ is positive, the loop will exit when `x > end_count`, and when _stride_ is negative, the loop will exit when `x < end_count`. In both cases, when the bounds of the loop are exceeded the contained code will not be executed."
   ]
  },
  {
   "cell_type": "markdown",
   "metadata": {},
   "source": [
    "### Exercise 4 - _Do_\n",
    "\n",
    " * Write a _Do_ loop with a negative stride and ensure that it is not possible to accidentally exceed the bounds of the loop with a sufficiently large stride.\n",
    " * Use a _Do_ loop to assign values to a one-dimensional array. Then print them out using another _Do_ loop.\n",
    " * It is possible to nest control structures inside each other. Nest an _If_ statment within a _Do_ loop to print out only elements of the previous one-dimensional array that are even."
   ]
  },
  {
   "cell_type": "markdown",
   "metadata": {},
   "source": [
    "### Warning - The _GOTO_ statement!\n",
    "\n",
    "Because of its considerable backward compatibility with earlier standards, Modern Fortran still includes the dreaded `GOTO` statement, allowing a direct hop from any point in the program to any other point. Because it skips any intervening statements it can leave the code in a potentially unstable and undefined state, and also makes the flow of code extremely difficult to follow, maintain and debug.\n",
    "\n",
    "Because of the richness of other control statements in Fortran, and the use of functions and modules (described later in this course), there are no circumstances under which `GOTO` is required, and the use of it is **strongly discouraged** and has no place in Modern Fortran."
   ]
  },
  {
   "cell_type": "markdown",
   "metadata": {},
   "source": [
    "## Sub-programs\n",
    "\n",
    "Up until this point, all code has been contained within a single _program unit_, enclosed by the `program` and `end program` statements. A Fortran program has to have one and only one `program` block, but it can have other units which can interact with the main program. Two of the most common units are _subroutines_ and _functions_, which can be used to separate out self-contained sections of code, making them more easily testable, re-usable, and making the execution path through the main program clearer.\n",
    "\n",
    "### Subroutines\n",
    "\n",
    "Subroutines are blocks of code that can receive data as variables from the main program, or other sub-programs, and return data back to them. A typical subroutine has the following structure:\n",
    "\n",
    "```fortran\n",
    "subroutine name(argument1, argument2, ...)\n",
    "  ! Dummy Variables\n",
    "  Type, <attributes>  :: name\n",
    "  \n",
    "  ! Code\n",
    "  print *, 'This is a subroutine'\n",
    "end subroutine\n",
    "```\n",
    "\n",
    "A subroutine must have a name, which must not conflict with any other program units. For it to be useful it must receive values from the main program and return results back. In Fortran terminology these are known as _dummy arguments_, which is frequently a source of confusion, but they are simply positional arguments that take on the value of the variable in the same position of the calling statement. Once it is defined, a subroutine is executed as follows:\n",
    "\n",
    "```fortran\n",
    "call name(argument1, argument2, ...)\n",
    "```\n",
    "\n",
    "Unlike in some languages, Fortran subroutines are not executed in the form of an assignment (i.e. `x = name()`) but must be prefixed with the `call` statement. This means that returned values have to be listed alongside passed values in the argument list, and there is no way to distinguish them from outside the subroutine. This does have the advantage, however, that multiple values can be returned as separate entities, without being packed into a single object, as is the case with Python.\n",
    "\n",
    "A basic subroutine is shown below. All it does is accept two values and return a third, but it demonstrates how code that is both complex and used repeatedly can be separated out from the main program."
   ]
  },
  {
   "cell_type": "code",
   "execution_count": null,
   "metadata": {},
   "outputs": [],
   "source": [
    "%num_images: 1\n",
    "program sub_example\n",
    "  Implicit none\n",
    "\n",
    "  ! Declare some variables to hold the results of an addition\n",
    "  Integer  :: a, b, c\n",
    "  \n",
    "  ! Set the two values to be added\n",
    "  a = 2\n",
    "  b = 3\n",
    "  \n",
    "  ! Add two values and return the result\n",
    "  call add_values(a, b, c)\n",
    "  \n",
    "  ! Print out the result of the calculation\n",
    "  print *, 'result = ', c\n",
    "\n",
    "end program ! Main program ends here\n",
    "\n",
    "! This subroutine is a self-contained 'program unit'\n",
    "subroutine add_values(x, y, z)\n",
    "  Implicit None\n",
    "  \n",
    "  ! These 'dummy arguments' are passed into the subroutined or returned from it.\n",
    "  Integer, intent(in)  :: x\n",
    "  Integer, intent(in)  :: y\n",
    "  Integer, intent(out) :: z\n",
    "\n",
    "  ! Perform a calculation.\n",
    "  z = x + y\n",
    "  \n",
    "end subroutine"
   ]
  },
  {
   "cell_type": "markdown",
   "metadata": {},
   "source": [
    "#### Scope\n",
    "\n",
    "The above code provides a demonstration of variable scope. Variables, `a`, `b`, and `c` are declared within the main program and do not exist outside it. Try printing out `a` from within the subroutine for a demonstration. Likewise, the variables declared in the subroutine cannot be accessed from within the main program. This may sound restrictive but is deliberate, intented to provide a single known route for data in and out of the program unit, making debugging easier and ensuring that the subroutine is self-contained, not requiring any variables other than those in the argument list. As a thought experiment, imagine the scope of a variable was _global_ and didn't need to be passed as an argument: How would you tell an unexpected variable value in the subroutine was caused by a bug in that subroutine or in the main program? Restricting scope provides pipelines where values can be checked without worrying about contamination from outside variables.\n",
    "\n",
    "#### Intent\n",
    "\n",
    "An attribute that distinguishes dummy arguments from ordinary variables is the `intent`. This defines whether variables are read-only (`intent(in)`), undefined and writable (`intent(out)`), or can be modified by the subroutine, with those modifications propagated back to the main program (`intent(inout)`). If no intent is specified then all dummy arguments are by default `intent(inout)`, which is a back door to allowing global scope with the issues of self-containment and debugging already discussed. All dummy arguments should have a defined _intent_, which should never regularly be `inout`."
   ]
  },
  {
   "cell_type": "markdown",
   "metadata": {},
   "source": [
    "### Exercise 5 - _Subroutines_\n",
    "\n",
    " * Try changing the `intent` of the dummy arguments in the subroutine and see if you understand the error messages that are generated.\n",
    " * Test the scope of the subroutine variables by trying to print them out in the main program.\n",
    " * Wrap the `call` statement in a `Do` loop so that the range of the variable `a` to be used in the calculation is from 1 to 10. This should provide an example of both re-usable self-contained code and encapsulating potentially complex functionality within a single statement."
   ]
  },
  {
   "cell_type": "markdown",
   "metadata": {},
   "source": [
    "### Functions\n",
    "\n",
    "Functions are very similar to subroutines, in that they encapsulate a self-contained block of code and receive a list of arguments from the program unit that calls them. The main difference is that a function can take a single defined return value and can be used in assignments, such as `x = add_values(a, b)`. In this case the return value is not included in the argument list. The syntax of a function is shown below:\n",
    "\n",
    "```fortran\n",
    "Type function name(argument1, argument2, ...)\n",
    "  ! Dummy Variables\n",
    "  Type                :: variable\n",
    "  Type, <attributes>  :: name\n",
    "\n",
    "  ! Code\n",
    "  print *, 'This is a function'\n",
    "  ! Optional return statement\n",
    "  return\n",
    "end function\n",
    "```\n",
    "\n",
    "There are two significant differences: \n",
    " * There is an optional `return` statement, signifying that function will terminate at this point and return a result to the calling unit. If there is no such statement then the result will be returned at the end of the function. \n",
    " * The _type_ of the variable can optionally be specified before the `function` statement and/or in the list of dummy variables. This is a form of _type checking_, enforcing that a variable of the specified type must be returned. This can help debugging.\n",
    " \n",
    "A function is called as follows:\n",
    " \n",
    "```fortran\n",
    "return_value = name(argument1, argument2, ...)\n",
    "```\n",
    "\n",
    "A working example is shown below, which equivalent to the previously described subroutine:"
   ]
  },
  {
   "cell_type": "code",
   "execution_count": null,
   "metadata": {},
   "outputs": [],
   "source": [
    "%num_images: 1\n",
    "program fun_example\n",
    "  Implicit none\n",
    "  \n",
    "  ! Declare that 'add_values' is a user defined function\n",
    "  Integer, external :: add_values\n",
    "\n",
    "  ! Declare some variables to hold the results of an addition\n",
    "  Integer  :: a, b, c\n",
    "  \n",
    "  ! Set the two values to be added\n",
    "  a = 2\n",
    "  b = 3\n",
    "  \n",
    "  ! Add two values and return the result\n",
    "  c = add_values(a, b)\n",
    "  \n",
    "  ! Print out the result of the calculation\n",
    "  print *, 'result = ', c\n",
    "\n",
    "end program ! Main program ends here\n",
    "\n",
    "! This function is a self-contained 'program unit'\n",
    "Integer function add_values(x, y)\n",
    "  Implicit None\n",
    "  \n",
    "  ! These 'dummy arguments' are passed into the subroutined or returned from it.\n",
    "  Integer              :: z\n",
    "  Integer, intent(in)  :: x\n",
    "  Integer, intent(in)  :: y\n",
    "\n",
    "  ! Perform a calculation.\n",
    "  z = x + y\n",
    "  \n",
    "end function"
   ]
  },
  {
   "cell_type": "markdown",
   "metadata": {},
   "source": [
    "Notice that in the case of functions, the name of the function needs to be declared as `Integer, external`. Unlike subroutines where we explicitly _call_ them, thus telling Fortran that the following statement is definitely a subroutine, it is possible that an `add_values` function may a missing intrinsic function or data type, or a program unit that has not been linked correctly. The Fortran compiler can't be sure and thus exits with an error. We have to explicitly tell the compliler than `add_values` is a non-intrinsic function before we can use it.\n",
    "\n",
    "As we'll see in the _Modules_ section, there are better ways of packaging and using subroutines and functions than including them in the same file as the main program."
   ]
  },
  {
   "cell_type": "markdown",
   "metadata": {},
   "source": [
    "### Exercise 6 - _Functions_\n",
    "\n",
    " * What happens if you change the return type prefixing the function definition, `Integer`, to `Real`? Could this be helpful?\n",
    " * Try keeping the return type as an `Integer` but changing the return type in the dummy arguments to `Real`? Is this just as helpful?\n",
    " * Change the `Do` loop you created in _Exercise 5_ so that it calls a function rather than a subroutine."
   ]
  },
  {
   "cell_type": "markdown",
   "metadata": {},
   "source": [
    "| [<- Basics](Basics.ipynb) | [Advanced Fortran ->](Advanced%20Fortran.ipynb) |\n",
    "| ------------------------------------- | ----------------------------------------------------------- |\n",
    "| []()                                  | []()                                                        |"
   ]
  }
 ],
 "metadata": {
  "kernelspec": {
   "display_name": "Coarray Fortran",
   "language": "Fortran",
   "name": "coarray-fortran"
  },
  "language_info": {
   "file_extension": ".f90",
   "mimetype": "text/plain",
   "name": "fortran"
  }
 },
 "nbformat": 4,
 "nbformat_minor": 2
}
