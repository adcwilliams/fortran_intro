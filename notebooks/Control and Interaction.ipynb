{
 "cells": [
  {
   "cell_type": "markdown",
   "metadata": {},
   "source": [
    "# Control Constructs"
   ]
  },
  {
   "cell_type": "markdown",
   "metadata": {},
   "source": [
    "## Expressions\n",
    "\n",
    "Any programming language must be able to generalise common operations and change functionality depending on certain conditions. Fortran provides a small number of familiar control structures for this purpose, and they generally work by evaluating an _expression_, determining whether the result of that expression is logical _True_ or _False_, and then allowing the control statement to branch according to this result.\n",
    "\n",
    "An expression is simply a test of truth, and can be as simple as `x < 10`, meaning _is the value of the variable x less than the number ten_. If it is, the result of the expression is _True_, otherwise _False_. A list of the common _relational operators_ used to construct an expression follows:\n",
    "\n",
    "| Operator | Purpose                  |\n",
    "| -------- | ------------------------ |\n",
    "| `<`      | Less than                |\n",
    "| `<=`     | Less than or equal to    |\n",
    "| `==`     | Exactly equal to         |\n",
    "| `/=`     | Not equal to             |\n",
    "| `>`      | Greater than             |\n",
    "| `>=`     | Greater than or equal to |\n",
    "\n",
    "These operators are similar to those used in other programming languages and replace the older Fortran-77 style operators whereby, for example, _less than_ was represented by `.lt.`. It is possible to test the outcome of expressions simply by printing out the result, as shown in the following example:"
   ]
  },
  {
   "cell_type": "code",
   "execution_count": null,
   "metadata": {},
   "outputs": [],
   "source": [
    "%num_images: 1\n",
    "program expr_test\n",
    "  Use, intrinsic  :: iso_fortran_env\n",
    "  Implicit none\n",
    "\n",
    "  ! Get size of a single precision float\n",
    "  Integer, parameter  :: sp = REAL32\n",
    "  \n",
    "  ! Declare some test floats\n",
    "  Real(kind=sp) :: x, y\n",
    "  ! Declare some test ints\n",
    "  Integer       :: i, j\n",
    "  ! Declare a variable to hold the logical result of a test expression\n",
    "  Logical       :: test_result\n",
    "  \n",
    "  ! Set the test variables\n",
    "  x = 2.0\n",
    "  y = 3.0\n",
    "  i = 4\n",
    "  j = 6\n",
    "  \n",
    "  ! Evaluate a test expression\n",
    "  test_result = (i < j)\n",
    "  \n",
    "  ! Print out the result\n",
    "  print *, 'Result of test = ', test_result\n",
    "  \n",
    "end program expr_test"
   ]
  },
  {
   "cell_type": "markdown",
   "metadata": {},
   "source": [
    "In addition to the above relational operators, there exist a small number of _logical operators_ that can be used to test logical variables, and also to chain relational operators together to construct more complex expressions. The list of logical operators is shown below:\n",
    "\n",
    "| Operator | Purpose                 |\n",
    "| -------- | ----------------------- |\n",
    "| `.not.`  | Logical negation        |\n",
    "| `.and.`  | Logical intersection    |\n",
    "| `.or.`   | Logical union           |\n",
    "| `.eqv.`  | Logical equivalence     |\n",
    "| `.negv.` | Logical non-equivalence |\n",
    "\n",
    "So, it's possible to write `(x < 10) .and. (x > 3)`, which would return a single logical answer. The significant difference between `.and.` and `.eqv.` is that `.and.` returns _True_ only when both sides of the comparison are _True_. The latter returns _True_ as long as both sides are the same, whether _True_ or _False_."
   ]
  },
  {
   "cell_type": "markdown",
   "metadata": {},
   "source": [
    "### Exercise 1 - _Expressions_\n",
    "\n",
    " * Modify the first program in this section so that it will print out the result of chained expressions using logical operators.\n",
    " * The variables `x` and `y` are floating point variables. What is the result of an equivalence `==` test? Can you expain why?"
   ]
  },
  {
   "cell_type": "markdown",
   "metadata": {},
   "source": [
    "## Control Structures\n",
    "\n",
    "We've seen how Fortran evaluates expressions. There are a number of Fortran constructs that use expressions to change code functionality. \n",
    "\n",
    "### If\n",
    "\n",
    "The `IF` statement allows the code to branch into two more alterative paths, depending on a logical evaluation. In it's simplest form, it looks like this:\n",
    "\n",
    "```fortran\n",
    "if (expression) then\n",
    "  ! optional code\n",
    "  print *, 'This code only runs if (expression) is true'\n",
    "end if\n",
    "```\n",
    "A working example follows:"
   ]
  },
  {
   "cell_type": "code",
   "execution_count": null,
   "metadata": {},
   "outputs": [],
   "source": [
    "%num_images: 1\n",
    "program if_test\n",
    "  Implicit none\n",
    "  \n",
    "  ! Declare two variables to use in our expression\n",
    "  Integer :: x, y\n",
    "  \n",
    "  ! Set the initial values\n",
    "  x = 1\n",
    "  y = 10\n",
    "  \n",
    "  ! If x is less than y then print a message\n",
    "  if (x < y) then\n",
    "    print *, \"x really is less than y!\"\n",
    "  end if\n",
    "\n",
    "end program if_test"
   ]
  },
  {
   "cell_type": "markdown",
   "metadata": {},
   "source": [
    "This example only executes an optional section of code if a condition is met, but we can include additional expressions depending on the values in question:"
   ]
  },
  {
   "cell_type": "code",
   "execution_count": null,
   "metadata": {},
   "outputs": [],
   "source": [
    "%num_images: 1\n",
    "program if_else\n",
    "  Implicit none\n",
    "  \n",
    "  ! Declare three variables to use in our expression\n",
    "  Integer :: x, y\n",
    "  Logical :: z\n",
    "  \n",
    "  x = 1\n",
    "  y = 10\n",
    "  z = .true.\n",
    "  \n",
    "  ! \n",
    "  if ((x < y) .and. (z .eqv. .false.)) then\n",
    "    print *, \"Alternative 1\"\n",
    "  else if ((x < y) .and. (z .eqv. .true.)) then\n",
    "    print *, \"Alternative 2\"\n",
    "  else\n",
    "    print *, \"All other cases\"\n",
    "  end if\n",
    "  \n",
    "end program if_else"
   ]
  },
  {
   "cell_type": "markdown",
   "metadata": {},
   "source": [
    "In the example above we have specified two conditions under which a section of code will be executed, each condition being an expression with sub-expressions joined by logical operators. These kind of chained expressions can get very complicated and hard to interpret, and it's a good idea for readability to separate out the conditions as much as possible and consider using functions or the upcoming _case_ statement to increase readibility."
   ]
  },
  {
   "cell_type": "markdown",
   "metadata": {},
   "source": [
    "### Exercise 2 - _If_\n",
    "\n",
    " * As an example of the dangers of complicated expressions, try removing the `()` brackets surrounding the subexpressions `x < y` and `z .eqv. .false.` in the above example. This is still a valid expression. Does it produce the expected results. If not, can you see why?"
   ]
  },
  {
   "cell_type": "markdown",
   "metadata": {},
   "source": [
    "## Warning - The _GOTO_ statement!"
   ]
  },
  {
   "cell_type": "markdown",
   "metadata": {},
   "source": [
    "## Functions and Subroutines"
   ]
  },
  {
   "cell_type": "markdown",
   "metadata": {},
   "source": [
    "## Input and Output"
   ]
  }
 ],
 "metadata": {
  "kernelspec": {
   "display_name": "Coarray Fortran",
   "language": "Fortran",
   "name": "coarray-fortran"
  },
  "language_info": {
   "file_extension": ".f90",
   "mimetype": "text/plain",
   "name": "fortran"
  }
 },
 "nbformat": 4,
 "nbformat_minor": 2
}
