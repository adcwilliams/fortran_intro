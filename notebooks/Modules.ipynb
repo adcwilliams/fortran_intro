{
 "cells": [
  {
   "cell_type": "markdown",
   "metadata": {},
   "source": [
    "# Modules\n",
    "\n",
    "We saw in the chapter on _Subroutines_ that it is possible to break a program into re-usable self-contained units. However, when they are included in the same file as the main program they are not truly independent. We could create a subroutine to perform a complex calculation, for example, but it would still have to be compiled alongside a potentially unrelated function to do some plotting. _Modules_ solve this problem by allowing units to be packaged, tested, compiled and distributed separately, allowing the creation of a toolbox of useful functions. For those with experience of other programming language, Fortran modules resemble _Python_ modules but with features of Python and C++ _Classes_. "
   ]
  },
  {
   "cell_type": "markdown",
   "metadata": {},
   "source": [
    "## Inside a Module\n",
    "\n",
    "A _Module_ can contain variable declarations, which have scope throughout the module, and also units such as subroutines, which can _also_ contain declarations with restricted scope. It cannot contain _bare_ executable statements. The best way to demonstrate what a module looks like is with a simple example:\n",
    "\n",
    "```fortran\n",
    "Module my_module\n",
    "  Implicit none\n",
    "  ! Ensure that all declared items have scope restricted to this module only\n",
    "  ! unless stated otherwise.\n",
    "  Private\n",
    "  \n",
    "  ! Allow the 'add_vars' subroutine to be accessed from outside (public).\n",
    "  Public   :: add_vars   \n",
    "  \n",
    "  ! These values are accessible within the module but not from outside (private).\n",
    "  Integer  :: my_counter = 0\n",
    "  \n",
    "  ! A module can 'contain' multiple units, which can either be public or private.\n",
    "  contains\n",
    "    integer function add_vars(a, b)\n",
    "      Implicit none\n",
    "      \n",
    "      ! Dummy arguments\n",
    "      Integer, intent(in)  :: a\n",
    "      Integer, intent(in)  :: b\n",
    "      \n",
    "      ! Increment the access counter and print it out\n",
    "      my_counter = my_counter + 1\n",
    "      print *, 'Number of times function called: ', my_counter\n",
    "      \n",
    "      ! Add two values and return the result\n",
    "      c = a + b\n",
    "\n",
    "    end function\n",
    "end module my_module\n",
    "```\n",
    "\n",
    "A module always begins with `Module`, and ends with `End module`. Within in we can place declaration statements like `Implicit none` but not program code. This is why the variable `my_counter` has to be declared and initialised in the same step. The first statement, `Private`, is recommended at the beginning of a module as it forces all subsequent contents to have scope restricted to that module unless made explicitly `Public`.\n",
    "\n",
    "The `contains` statement signifies the point of the module where declarations end and the payload of program units begins. In this case we have a single function that adds two values and returns the result, very similar to the example we saw earlier. We have made it public so that it can be accessed from the main program, otherwise it wouldn't be very useful!\n",
    "\n",
    "The module can be accessed by another program unit by using the `use` statement, which must always come before the `implicit none` statement. This is the simplest example:\n",
    "\n",
    "```fortran\n",
    "program moduletest\n",
    "  use my_module\n",
    "  Implicit none\n",
    "end program\n",
    "```"
   ]
  },
  {
   "cell_type": "markdown",
   "metadata": {},
   "source": [
    "A fully working example can be found in the following location:\n",
    "\n",
    "| Program        | Directory              | Purpose                                               |\n",
    "| -------------- | ---------------------- | ----------------------------------------------------- |\n",
    "| **moduletest** | `src/modules/example1` | Call a function defined in a module.                  |\n",
    "\n",
    "This program calls our `add_vars()` function with a range of values. Whilst extremely simple it demonstrates a potentially very useful features of modules, _persistence_. The module itself remains in scope the whole time the main program is running, and because the `my_counter` variable belongs to the scope of the module, not the subroutine, its value persists between function calls. This allows a Fortran module to mimic the behaviour of a `Class`, in that it can encapsulate both data and functionality in one package.\n",
    "\n",
    "Whilst it is possible to call a bare subroutine from a different file that hasn't been wrapped in a module, this will lead to extra complications in that we will need to define an explicit _interface_ for the subroutine so that the main program knows what number and type of arguments the subroutine is expecting. Using modules means interfaces are generated automatically and we don't need to worry about them.\n",
    "\n",
    "### Exercise 1 - _Modules_\n",
    "\n",
    " * The variable `my_counter` is declared in the module alongside the function `add_vars()`. Can you access it from the main program. If not, why not? Can you modify the code so that it can be accessed?\n",
    " * Remove the initialisation of the variable `my_counter` (setting it to zero). Do the results change? Do you trust them?\n",
    " * When large numbers of module variables need to be initialised, potentially with values read from a file or passed via user input, it is often neater to create a separate function to do this. Create another function called `init()` or similar, that sets `my_counter` to zero and modify the main program so that this function is called before `add_vars()` is ever used. Try setting the initial value to something other than zero."
   ]
  }
 ],
 "metadata": {
  "kernelspec": {
   "display_name": "Coarray Fortran",
   "language": "Fortran",
   "name": "coarray-fortran"
  },
  "language_info": {
   "file_extension": ".f90",
   "mimetype": "text/plain",
   "name": "fortran"
  }
 },
 "nbformat": 4,
 "nbformat_minor": 2
}
