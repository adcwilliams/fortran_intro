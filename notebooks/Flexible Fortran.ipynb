{
 "cells": [
  {
   "cell_type": "markdown",
   "metadata": {},
   "source": [
    "# Flexibility\n",
    "\n",
    "In this section we'll be looking at ways of extending the functionality of"
   ]
  },
  {
   "cell_type": "markdown",
   "metadata": {},
   "source": [
    "## Derived Types\n",
    "\n",
    "We've seen examples of _Intrinsic Types_, the variable types that can be used in Fortran code. We can imagine the situation where we have a very large number of variables decribing the property of an object, any of which are meaningless outside the context of the whole. Take a car, for example. We let if have `colour`, `doors`, `seats`, `age`, and a number of other attributes, but all of these refer to a single object, _the car_. To write any function or subroutine that performs an operation on _the car_, one must pass all its properties separately (and out of context) and return them. Particularly if there a very large number of attributes, this can make code unreadable or potentially even breach Fortran's limit on the permitted number of arguments.\n",
    "\n",
    "Fortunately, there is an alternative. A _Derived Type_ is a user-defined compound variable consisting of a number of intrinsic types, and can be used to package related variables, giving them context. An example of a very simple derived type follows:\n",
    "\n",
    "```fortran\n",
    "Type <name>\n",
    "  Type    :: var_name\n",
    "  Type    :: var_name\n",
    "End type <name>\n",
    "```\n",
    "This is simply a definition. We'd then have to declare an object of this type like so:\n",
    "\n",
    "```fortran\n",
    "Type (<name>)  :: my_object\n",
    "```\n",
    "\n",
    "We can also have more than one object of this type, or even an array of them.\n",
    "\n",
    "For our car, we could define a type as follows:"
   ]
  },
  {
   "cell_type": "code",
   "execution_count": null,
   "metadata": {},
   "outputs": [],
   "source": [
    "%num_images: 1\n",
    "Program kind_demo\n",
    "  Implicit none\n",
    "\n",
    "  ! Define a derived type describing a car\n",
    "  Type car\n",
    "    Character(15)  :: colour\n",
    "    Character(15)  :: name\n",
    "    Integer        :: doors\n",
    "    Integer        :: seats\n",
    "    Integer        :: age\n",
    "  End type car\n",
    "  \n",
    "  ! Declare an array of 'cars'\n",
    "  Type (car)       :: some_cars(2)\n",
    "  \n",
    "  ! Declare a loop counter\n",
    "  Integer          :: x\n",
    "  \n",
    "  ! Populate the first car one element at a time\n",
    "  some_cars(1)%colour = 'Red'\n",
    "  some_cars(1)%name   = 'My Car'\n",
    "  some_cars(1)%doors  = 5\n",
    "  some_cars(1)%seats  = 4\n",
    "  some_cars(1)%age    = 3\n",
    "  \n",
    "  ! Populate the second car all at once\n",
    "  some_cars(2) = car(colour='Blue', name='Some Other Car', doors=7, seats=2, age=5)\n",
    "  \n",
    "  do x = 1, 2\n",
    "    print *, some_cars(x)%name\n",
    "    print *, some_cars(x)%colour\n",
    "    print \"(i2)\", some_cars(x)%doors\n",
    "    print \"(i2)\", some_cars(x)%seats\n",
    "    print \"(i2)\", some_cars(x)%age\n",
    "  end do\n",
    "  \n",
    "End Program"
   ]
  },
  {
   "cell_type": "markdown",
   "metadata": {},
   "source": [
    "Note that the syntax for accessing an element within a derived type is to prefix the name of the element with the name of the containing object separated by a `%` sign, i.e. `some_cars(1)%age`.\n",
    "\n",
    "This `car` object can then be passed to functions, assuming that both program units are aware of the definition of the derived type. The ideal way to do this would be to place it in the header of a _module_ and `use` that module in any units that require the definition. An example of this is shown below:\n",
    "\n",
    "| Program  | Directory              | Purpose                                                    |\n",
    "| -------- | ---------------------- | ---------------------------------------------------------- |\n",
    "| **cars** | `src/derived/example1` | Demonstrate how derived types can be used in modules       |\n",
    "\n",
    "Note that because we are passing objects of type `car` into a subroutine with `intent(in)` we can't just update that object and return it. We have to make a working copy and update that. This is the case with all variables passed with this specific intent and means we are sacrificing some speed and memory for better quality control."
   ]
  },
  {
   "cell_type": "markdown",
   "metadata": {},
   "source": [
    "### Exercise 1 - _Derived Types_\n",
    "\n",
    " * Create your own derived type and 'process' it as in the above example."
   ]
  },
  {
   "cell_type": "code",
   "execution_count": null,
   "metadata": {},
   "outputs": [],
   "source": []
  }
 ],
 "metadata": {
  "kernelspec": {
   "display_name": "Coarray Fortran",
   "language": "Fortran",
   "name": "coarray-fortran"
  },
  "language_info": {
   "file_extension": ".f90",
   "mimetype": "text/plain",
   "name": "fortran"
  }
 },
 "nbformat": 4,
 "nbformat_minor": 2
}
