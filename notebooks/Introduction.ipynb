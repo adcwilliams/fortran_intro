{
 "cells": [
  {
   "cell_type": "markdown",
   "metadata": {},
   "source": [
    "# Introduction to Modern Fortran\n",
    "\n"
   ]
  },
  {
   "cell_type": "markdown",
   "metadata": {},
   "source": [
    "| **Web Page**              | http://fortran.hopto.org                     |\n",
    "| ------------------------- | -------------------------------------------- |\n",
    "| **GitHub Repository**     | https://github.com/adcwilliams/fortran_intro |\n",
    "| **Introduction to Linux** | https://github.com/adcwilliams/linux_intro   |\n",
    "\n",
    "## Who is this workshop for?\n",
    "\n",
    "* People who use an older standard of Fortran, such as Fortran 77, and want to learn the new features of Modern Fortran.\n",
    "* People who use other compiled programming languages like C, but need to work on Fortran code.\n",
    "* People who use interpreted languages like Python, but have the need for greater speed and efficiency.\n",
    "\n",
    "This material is not intended for absolute beginners to programming. It does deal with the basics but uses other languages to provide context. Modern Fortran is a complex subject which cannot be fully covered in three hours, so this workshop is intended to provide entry points to a number of important concepts, all of which are well documented in books or on the Internet."
   ]
  },
  {
   "cell_type": "markdown",
   "metadata": {},
   "source": [
    "## How does this workshop work?\n",
    "\n",
    "You are looking at a [Jupyter notebook](https://jupyter.org/) running a [CoArray Fortran kernel](https://github.com/sourceryinstitute/jupyter-CAF-kernel). Notebooks consist of _cells_ containing text or blocks of Fortran code. What this means is that you will frequently see cells that can be run interactively, like this:"
   ]
  },
  {
   "cell_type": "code",
   "execution_count": null,
   "metadata": {},
   "outputs": [],
   "source": [
    "%num_images: 1\n",
    "Program my_first_program\n",
    "  Implicit none\n",
    "  \n",
    "  ! Introduce yourself!\n",
    "  print *, 'Welcome to the Introduction to Modern Fortran course!'\n",
    "End program"
   ]
  },
  {
   "cell_type": "markdown",
   "metadata": {},
   "source": [
    "Interactive code is marked by the `In []:` symbol next to it. When you click on that block of code and press the `Run` button at the top of the page, the code will be executed and the output will be displayed beneath it. Try it and see. Since Jupyter is fully interactive you can _change_ blocks of code and run them again. Try changing the welcome message to something different. Additionally, if you want to write some of your own code you can do so by _inserting_ a cell using the `Insert` menu at the top of the page. By default this will be a Fortran code cell, but you can change it to text by clicking on the drop-down menu and changing the description from _Code_ to _Markdown_. This will allow you to document any new code cells you create.\n",
    "\n",
    "The special command `%num_images: 1` that comes before the Fortran code is an instruction to the Fortran kernel that we only want to run one copy of the process. This may seem obvious, but CoArray Fortran is designed for parallel processing, running multiple copies of a program at the same time. We'll deal with this in the final part of the course. This command is not required when writing Fortran independently from Jupyter."
   ]
  },
  {
   "cell_type": "markdown",
   "metadata": {},
   "source": [
    "### Using a Linux terminal\n",
    "\n",
    "At some points in this workshop you will need to open a Linux terminal to run code from the command line or edit source files with a text editor. To do this, click on the `File` menu and select `Open`. In the file selector window that appears, click the `New` button in the top right of the screen and select `Terminal` at the bottom of the list. The material for this workshop is in the _fortran_intro_ folder in your home directory, and there are two text editors at your disposal, *Nano* and *Vim*. If you're not familar with either then Nano is a better choice for beginners. If you need help using Linux then the material for another ACRC training course on the Linux command line can be found at the top of this page, or ask one of the demonstrators."
   ]
  },
  {
   "cell_type": "markdown",
   "metadata": {},
   "source": [
    "## What is Fortran?\n",
    "\n",
    "If you're not familiar with the language, you may be wondering why you would choose to use Fortran over languages with more features and libraries, such as [Python](https://www.python.org/) or equivalent languages such as C++. The answer to the former is _speed_. The answer to the latter is that it is a matter of choice. Modern Fortran has more limitations regarding memory allocation than modern C or C++, and is generally easier to learn. If you're not a software engineer, Fortran is generally a friendlier and more straightforward language than C++, but won't allow you such full control of the computer. Generally if you're writing code for research purposes this can be considered a positive.\n",
    "\n",
    "### A Compiled language\n",
    "\n",
    "Unlike Python or dedicated mathematical language like Matlab, Fortran source code cannot be run directly, it needs to be compiled into a computer's native machine language first. This compilation process produces an _executable_ file than can be run. When running code from within Jupyter, this compilation process is performed automatically in the background, but when writing code from the Linux command line you will need to do it yourself.\n",
    "\n",
    "For this workshop we will be using the [GNU Fortran Compiler](https://gcc.gnu.org/fortran/), part of the GNU Compiler Collection (GCC). At it's very simplest, if you have a fortran source file called `my_file.f90` and you want to compile it to an executable called `my_file`, you would do it like so:\n",
    "\n",
    "```bash\n",
    "gfortran -o my_file my_file.f90\n",
    "```\n",
    "\n",
    "You could then run `my_file` by typing:\n",
    "\n",
    "```bash\n",
    "./my_file\n",
    "```"
   ]
  },
  {
   "cell_type": "markdown",
   "metadata": {},
   "source": [
    "### Makefiles\n",
    "\n",
    "For code requiring multiple files, additional libraries, or extensive compiler arguments, this can rapidly become unmanageable. In this workshop you'll find examples of _Makefiles_, which allow many files to be compiled with a single command. Makefiles are either written by hand or generated by an application designed to make the process easier, such as [Cmake](https://cmake.org/).\n",
    "\n",
    "Through this course you'll find examples of code designed to be built from the Linux command line using a Makefile. The details will be displayed in the following format:\n",
    "\n",
    "| Program           | Directory                    | Purpose                                                   |\n",
    "| ----------------- | ---------------------------- | --------------------------------------------------------- |\n",
    "| **demonstration** | `src/demonstration/example1` | Example of using a Makefile to compile Fortran code       |\n",
    "\n",
    "The first column contains the name of the code, the second is the directory where it is located, relative to the _fortran intro_ directory, and the third is a short description of what the code does. Try compiling and running this code now. Open a terminal window and type the following commands:\n",
    "\n",
    "```bash\n",
    "cd ~/fortran_intro/src/demonstration/example1\n",
    "make\n",
    "./demonstration\n",
    "```\n",
    "\n",
    "There is also an example Makefile in the `src` directory which you can use for your own code."
   ]
  },
  {
   "cell_type": "markdown",
   "metadata": {},
   "source": [
    "## How to Write Fortran\n",
    "\n",
    "As stated above, Fortran source code is just a text file that be created in any text editor. Older Fortran source files typically had a `.f` or `.for` filename extension, but Modern Fortran typically uses the `.f90` extension. This is important because the extension instructs the compiler what standard to compile against.\n",
    "\n",
    "If writing code on a text-based terminal you will need to use a text editor that runs in the terminal, like Nano or Vim. This will frequently be the case if you are connected to a shared-use supercomputer like the University of Bristol's _BlueCrystal_. If writing code on your desktop computer then there are frequently Graphical User Interfaces (GUIs) that make the development and compilation process easier. As an example, [CodeBlocks](http://www.codeblocks.org/) for Windows is free, available via the UoB software centre, and includes the same GNU Fortran compiler used in this workshop.\n",
    "\n",
    "### Incorporating Revision Control\n",
    "\n",
    "A common development practice is to write code on your desktop computer or laptop and run it on faster dedicated hardware like BlueCrystal. Apart from the development benefits of using revision control, keeping code located on a service such as [GitHub](https://github.com/) means that it is possible to clone the repository on any machine without having to manually copy files across the network.\n",
    "\n",
    "Generally, files placed under revision control should be _fundamental_ files, not _derived_ files, i.e. those required to build the code, not those generated as part of the compilation process. Common files that are generated during compilation that should not be placed under revision control include the following:\n",
    "\n",
    "| Extension      | Description |\n",
    "| -------------- | ----------- |\n",
    "| `.o`           | Compiled object file that is _linked_ with other libraries to produce an _executable_ file. |\n",
    "| `.mod`         | Module file generated when compiling a module. Referred to during the compilation process when calling external functions. |\n",
    "| None or `.exe` | The executable file typically doesn't include an extension when compiled on Linux, and has an `.exe` extension when compiled on Windows. This is the final product of the compilation process. |\n",
    "\n",
    "There others such as library files, but these are typically generated deliberately, not as a byproduct of compilation, and are also _derived_ files."
   ]
  },
  {
   "cell_type": "markdown",
   "metadata": {},
   "source": [
    "## Fortran Standards\n",
    "\n",
    "Due to the Fortran's extensive backwards compatibilitity, many people do not even know there are different Fortran standards: there is just _Fortran_. This can result in problems when multiple people are working on the same code. Each may be writing code based on their understand of what Fortran is, and this is frequently different depending on the person. Broadly, Fortran can be categorised into _Modern Fortran_ and _Legacy Fortran_, which are significantly different in terms of features and style, to the extent that they should be considered different languages, despite the name.\n",
    "\n",
    "Typically, legacy Fortran uses fixed format layout, is regularly capitalised, makes regular use of common blocks and bare functions and implicit variable declaration with a strict variable name length limit:\n",
    "\n",
    "```fortran\n",
    "       PROGRAM LEGACY\n",
    "c THIS IS NOT SOMTHING YOU WANT TO SEE!\n",
    "       COMMON /PVTS/, IEXPN, TSTRS\n",
    "       \n",
    "c IMPLICITLY DECLARE AND ASSIGN SOME INTEGERS\n",
    "       IASTR = 75\n",
    "       ISTRS = 100\n",
    "       \n",
    "       CALL DOTHIS(IASTR, ISTRS)\n",
    "       \n",
    "       END PROGRAM\n",
    "```\n",
    "\n",
    "Modern Fortran uses free format, is not regularly capitalised, uses _modules_ instead of common blocks and bare functions, and uses explicit variable declaration with a relaxed variable name length limit:\n",
    "\n",
    "```fortran\n",
    "Program modern\n",
    "  ! This is a bit more like it!\n",
    "  use function_library\n",
    "  ! Turn off implicit variable declaration\n",
    "  Implicit none\n",
    "  \n",
    "  ! Explicitly declare some integers with definite type\n",
    "  Integer :: my_first_var, my_second_var\n",
    "  \n",
    "  ! Assign the integers\n",
    "  my_first_var  = 75\n",
    "  my_second_var = 100\n",
    "  \n",
    "  ! Call my very clever subroutine stored in the function library\n",
    "  Call process_cleverly(my_first_var, my_second_var)\n",
    "  \n",
    "End Program\n",
    "```\n",
    "\n",
    "Within these two categories there are a number of standards:\n",
    "\n",
    "| Category | Standard |\n",
    "| -------- | -------- |\n",
    "| _Modern_ | **2018** |\n",
    "| _Modern_ | **2008** |\n",
    "| _Modern_ | **2003** |\n",
    "| _Modern_ | **95**   |\n",
    "| _Modern_ | **90**   |\n",
    "| _Legacy_ | **77**   |\n",
    "| _Legacy_ | **66**   |\n",
    "\n",
    "Before Fortran 66 there were a number of earlier versions, frequently in use simultaneously, developed by different companies and often restricted to certain hardware or operating systems, but nothing that could be considered a _standard_. Even so, the legacy of a history of proprietary features still exists in Modern Fortran, although diminishing as time passes. This is why it's important to:\n",
    "\n",
    " * Decide on a standard you are going to follow (this workshop assumes 2008).\n",
    " * Only used features documented in a published standard, not compiler specific extensions.\n",
    " * Avoid using features that have been _deprecated_ in that standard.\n",
    " * Definitely avoid features that have been _removed_ in that standard.\n",
    " * Follow recommendations published in official standards and style guides when there are multiple ways to achieve the same result.\n",
    " * Keep the style guide close to the application (on a GitHub wiki page, for example) so anyone contributing knows what is expected of them. This also assists as a reference guide for the review process.\n",
    "\n",
    "Having talked a bit about the history of Fortran and how to write it, we can now start to look at the syntax of the language."
   ]
  },
  {
   "cell_type": "markdown",
   "metadata": {},
   "source": [
    "| []() | [Basics ->](Basics.ipynb) |\n",
    "| ------------------------------------- | ----------------------------------------------------------- |\n",
    "| []()                                  | []()                                                        |"
   ]
  }
 ],
 "metadata": {
  "kernelspec": {
   "display_name": "Coarray Fortran",
   "language": "Fortran",
   "name": "coarray-fortran"
  },
  "language_info": {
   "file_extension": ".f90",
   "mimetype": "text/plain",
   "name": "fortran"
  }
 },
 "nbformat": 4,
 "nbformat_minor": 2
}
