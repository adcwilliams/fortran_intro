{
 "cells": [
  {
   "cell_type": "markdown",
   "metadata": {},
   "source": [
    "# Introduction to Modern Fortran\n",
    "\n"
   ]
  },
  {
   "cell_type": "markdown",
   "metadata": {},
   "source": [
    "| **Web Page**              | http://fortran.hopto.org                     |\n",
    "| ------------------------- | -------------------------------------------- |\n",
    "| **GitHub Repository**     | https://github.com/adcwilliams/fortran_intro |\n",
    "| **Introduction to Linux** | https://github.com/adcwilliams/linux_intro   |\n",
    "\n",
    "## Who is this workshop for?\n",
    "\n",
    "* People who use an older standard of Fortran, such as Fortran 77, and want to learn the new features of Modern Fortran.\n",
    "* People who use other compiled programming languages like C, but need to work on Fortran code.\n",
    "* People who use interpreted languages like Python, but have the need for greater speed and efficiency.\n",
    "\n",
    "This material is not intended for absolute beginners to programming. It does deal with the basics but uses other languages to provide context. Modern Fortran is a complex subject which cannot be fully covered in three hours, so this workshop is intended to provide entry points to a number of important concepts, all of which are well documented in books or on the Internet."
   ]
  },
  {
   "cell_type": "markdown",
   "metadata": {},
   "source": [
    "## How does this workshop work?\n",
    "\n",
    "You are looking at a [Jupyter notebook](https://jupyter.org/) running a [CoArray Fortran kernel](https://github.com/sourceryinstitute/jupyter-CAF-kernel). Notebooks consist of _cells_ containing text or blocks of Fortran code. What this means is that you will frequently see cells that can be run interactively, like this:"
   ]
  },
  {
   "cell_type": "code",
   "execution_count": null,
   "metadata": {},
   "outputs": [],
   "source": [
    "Program my_first_program\n",
    "  Implicit none\n",
    "  \n",
    "  ! Introduce yourself!\n",
    "  print *, 'Welcome to the Introduction to Modern Fortran course!'\n",
    "End program"
   ]
  },
  {
   "cell_type": "markdown",
   "metadata": {},
   "source": [
    "Interactive code is marked by the `In []:` symbol next to it. When you click on that block of code and press the `Run` button at the top of the page, the code will be executed and the output will be displayed beneath it. Try it and see. Since Jupyter is fully interactive you can _change_ blocks of code and run them again. Try changing the welcome message to something different. Additionally, if you want to write some of your own code you can do so by _inserting_ a cell using the `Insert` menu at the top of the page. By default this will be a Fortran code cell, but you can change it to text by clicking on the drop-down menu and changing the description from _Code_ to _Markdown_. This will allow you to document any new code cells you create."
   ]
  },
  {
   "cell_type": "markdown",
   "metadata": {},
   "source": [
    "### Using a Linux terminal\n",
    "\n",
    "At some points in this workshop you will need to open a Linux terminal to run code from the command line or edit source files with a text editor. To do this, click on the `File` menu and select `Open`. In the file selector window that appears, click the `New` button in the top right of the screen and select `Terminal` at the bottom of the list. The material for this workshop is in the _fortran_intro_ folder in your home directory, and there are two text editors at your disposal, *Nano* and *Vim*. If you're not familar with either then Nano is a better choice for beginners. If you need help using Linux then the material for another ACRC training course on the Linux command line can be found at the top of this page, or ask one of the demonstrators."
   ]
  },
  {
   "cell_type": "markdown",
   "metadata": {},
   "source": [
    "## What is Fortran?\n",
    "\n",
    "If you're not familiar with the language, you may be wondering why you would choose to use Fortran over languages with more features and libraries, such as [Python](https://www.python.org/) or equivalent languages such as C++. The answer to the former is _speed_. The answer to the latter is that it is a matter of choice. Modern Fortran has more limitations regarding memory allocation than modern C or C++, and is generally easier to learn. If you're not a software engineer, Fortran is generally a friendlier and more straightforward language than C++, but won't allow you such full control of the computer. Generally if you're writing code for research purposes this can be considered a positive.\n",
    "\n",
    "### A Compiled language\n",
    "\n",
    "Unlike Python or dedicated mathematical language like Matlab, Fortran source code cannot be run directly, it needs to be compiled into a computer's native machine language first. This compilation process produces an _executable_ file than can be run. When running code from within Jupyter, this compilation process is performed automatically in the background, but when writing code from the Linux command line you will need to do it yourself.\n",
    "\n",
    "For this workshop we will be using the [GNU Fortran Compiler](https://gcc.gnu.org/fortran/), part of the GNU Compiler Collection (GCC). At it's very simplest, if you have a fortran source file called `my_file.f90` and you want to compile it to an executable called `my_file`, you would do it like so:\n",
    "\n",
    "```bash\n",
    "gfortran -o my_file my_file.f90\n",
    "```\n",
    "\n",
    "You could then run `my_file` by typing:\n",
    "\n",
    "```bash\n",
    "./my_file\n",
    "```"
   ]
  },
  {
   "cell_type": "markdown",
   "metadata": {},
   "source": [
    "| []() | [Basics ->](Basics.ipynb) |\n",
    "| ------------------------------------- | ----------------------------------------------------------- |\n",
    "| []()                                  | []()                                                        |"
   ]
  }
 ],
 "metadata": {
  "kernelspec": {
   "display_name": "Coarray Fortran",
   "language": "Fortran",
   "name": "coarray-fortran"
  },
  "language_info": {
   "file_extension": ".f90",
   "mimetype": "text/plain",
   "name": "fortran"
  }
 },
 "nbformat": 4,
 "nbformat_minor": 2
}
