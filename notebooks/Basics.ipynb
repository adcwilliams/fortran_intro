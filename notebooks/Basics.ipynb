{
 "cells": [
  {
   "cell_type": "markdown",
   "metadata": {},
   "source": [
    "# Basics"
   ]
  },
  {
   "cell_type": "markdown",
   "metadata": {},
   "source": [
    "## A Very Simple Example\n",
    "\n",
    "A simple fortran code consists of a _main program_ containing a series of instructions. Modern versions typically have a file extension `.f90`, which signifies free format source. The `.f` extension indicates old-style fixed format.\n",
    "The use of the `!` symbol tells the compiler than any subsequent text on that line is a _comment_. Comments can have a line to themselves or they can follow code and it's always a good idea to use comments to make sure your code is well documented. **However**, don't hide code within comments; keep the two easily distinguishable to make the source easy to read."
   ]
  },
  {
   "cell_type": "code",
   "execution_count": null,
   "metadata": {},
   "outputs": [],
   "source": [
    "%num_images: 1\n",
    "Program hello              ! The name of the program is a matter of personal preference. \n",
    "\n",
    "  ! The Implict none command tells the compiler to treat undeclared variables as errors.\n",
    "  ! It's strongly advised to used this as it catches spelling mistakes and forces the\n",
    "  ! programmer to give each variable a type.\n",
    "  Implicit none\n",
    "  \n",
    "  Integer     :: myNumber  ! Declare the variable myNumber to be of type 'integer'\n",
    "  \n",
    "  myNumber = 25            ! Assign a value to a variable\n",
    "  \n",
    "  Print *, 'Hello World!'  ! Comments can also follow Fortran instructions\n",
    "  Print *, 'I like the number', myNumber\n",
    "\n",
    "End program                ! The program must terminate with this line."
   ]
  },
  {
   "cell_type": "markdown",
   "metadata": {},
   "source": [
    "### Compiling the Code\n",
    "\n",
    "The above code has to be compiled before it can be run, converting it from (near) English to machine language. Using the _GNU Fortran_ compiler and assuming the file containing the source was named `hello.f90`, this could be achieved as follows:\n",
    "\n",
    "```bash\n",
    "gfortran -o hello hello.f90\n",
    "```\n",
    "\n",
    "This will produce an executable file called `hello`, which can be executed on Linux:\n",
    "\n",
    "```bash\n",
    "./hello\n",
    "```"
   ]
  },
  {
   "cell_type": "markdown",
   "metadata": {},
   "source": [
    "### Code Description\n",
    "\n",
    "The above example, while basic, demonstrates some of the fundamental concepts that are applicable to any Fortran program:\n",
    "\n",
    " * Units or sections (in this case the _program_).\n",
    " * Variables, used to hold information.\n",
    "  * Type.\n",
    "  * Declaration.\n",
    "  * Assignment.\n",
    "  * De-referencing.\n",
    " * Output\n",
    "\n",
    "Each of these topics will be discussed in further detail, but will be familiar to those with experience in other programming languages."
   ]
  },
  {
   "cell_type": "markdown",
   "metadata": {},
   "source": [
    "### Exercise 1 - _Hello World!_\n",
    "\n",
    "Copy the above code into a text file named `ex1.f90`, using a text editor such as `nano`.\n",
    " * Compile and run it.\n",
    " * Change the output produced by the program. Does it still run?"
   ]
  },
  {
   "cell_type": "markdown",
   "metadata": {},
   "source": [
    "## Variables\n",
    "\n",
    "Fortran traditionally has used _implicit variable declaration_, whereby the variable name and type don't have to be fixed ahead of use. The _type_ of the variable was determined by the first character of the name and the variable name length was limited to 6 characters. This led to variables such as `ievnct`, representing an _integer_ used to hold an _event counter_. Needless to say, this made Fortran 77 and earlier versions hard to read and debug! Fortunately this has changed in Modern Fortran.\n",
    "\n",
    "### Variable declaration\n",
    "\n",
    "In Modern Fortran, variables should be declared before use, using the following form:\n",
    "\n",
    "```fortran\n",
    "TYPE(kind)<attributes>   :: varName\n",
    "```\n",
    "\n",
    "In practice, this results in declarations such as the following:\n",
    "\n",
    "```fortran\n",
    "Integer                  :: varName\n",
    "```\n",
    "\n",
    "The optional `attributes` list allows the author to specify additional conditions, such as that is is a read-only `parameter`. The optional `kind` parameter specifies the internal representation of the variable, which in practice means precision and range. Both these options will be covered in more depth.\n",
    "\n",
    "### Intrinsic Types\n",
    "\n",
    "The five basic (or intrinsic) data types supported by Fortran are as follows:\n",
    "\n",
    "| Type          | Example       | Description                                 |\n",
    "| ------------- | :------------ | :------------------------------------------ |\n",
    "| **INTEGER**   | `-25`         | Signed integer                              |\n",
    "| **REAL**      | `7.2e-3`      | Signed floating point                       |\n",
    "| **COMPLEX**   | `(1.0, 2.5)`  | Complex number                              |\n",
    "| **LOGICAL**   | `.true.`      | Boolean `.true.` or `.false.`               |\n",
    "| **CHARACTER** | `'A string'`  | Generally used as an array to form a string |\n",
    "\n",
    "Each of these types has a default size, or _kind_.\n",
    "\n",
    "**NOTE**: some compilers offer the `DOUBLE PRECISION` type or allow setting the size with the `kind=(x)`, where `x` is the number of bytes requested, but _these are not parts of standard Fortran_ and should be avoided  when writing portable code. Additionally, compilers allow changing the default size of the intrinsic types, so if you want to be sure that your code will run as expected on any architecture it's important to specify the size of every variable you declare.\n",
    "\n",
    "#### Specifying Intrinsic Type Storage Size\n",
    "\n",
    "Until recently this was a problem. However, recent Fortran standards introduced options. In Fortran 2003 it is possible to use the `selected_real_kind` intrinsic to define variable size:"
   ]
  },
  {
   "cell_type": "code",
   "execution_count": null,
   "metadata": {},
   "outputs": [],
   "source": [
    "%num_images: 1\n",
    "Program kind_demo\n",
    "  Implicit none\n",
    "  \n",
    "  ! What is the smallest number of bytes required to store a real value with\n",
    "  ! 15 digits of precision and an expotent range of 307?\n",
    "  Integer, parameter   :: dp = selected_real_kind(p=15, r=307)\n",
    " \n",
    "  ! Use this size to declare a Real variable that is stored using the \n",
    "  ! computed number of bytes.\n",
    "  Real(kind=dp)        :: myLongVar\n",
    "  \n",
    "  ! Assign it a value too large for a single precision real to check.\n",
    "  myLongVar = 2.0d200\n",
    "  \n",
    "  ! Print out the value\n",
    "  print *, 'myLongVar = ', myLongVar\n",
    "\n",
    "End program     "
   ]
  },
  {
   "cell_type": "markdown",
   "metadata": {},
   "source": [
    "Fortran 2008 and later contain predefined constants representing the precision and range of different sizes of real variables, and this is the recommended method of declaring them if available:"
   ]
  },
  {
   "cell_type": "code",
   "execution_count": null,
   "metadata": {},
   "outputs": [],
   "source": [
    "%num_images: 1\n",
    "Program iso_env\n",
    "  ! The iso_fortran_env module contains a number of definitions of ISO approved values\n",
    "  use, intrinsic  :: iso_fortran_env \n",
    "  \n",
    "  Implicit none\n",
    "\n",
    "  ! REAL64 is defined in the above module and is the same value as obtained\n",
    "  ! from using the selected_real_kind intrinsic.\n",
    "  Integer, parameter  :: dp = REAL64\n",
    "  \n",
    "  Real(kind=dp)       :: myLongVar\n",
    "  \n",
    "  myLongVar = 2.0d200\n",
    "  \n",
    "  print *, 'myLongVar = ', myLongVar\n",
    "\n",
    "End program"
   ]
  },
  {
   "cell_type": "markdown",
   "metadata": {},
   "source": [
    "### Exercise 2 - _Variables_\n",
    "\n",
    "Fortran uses a number of familiar mathematical operators to perform arithmetical operations.\n",
    " * Write a short program to declare variables of different types and try adding, subtracting, multiplying and dividing one by another.\n",
    " * In the above examples the exponential form of a real value is written in the form `2.0d200`, where **d** is short for _double precision exponential_. The standard form in Fortran is `2.0e200`, where **e** is for exponential. What happens when you change the code to that form? Can you explain the result?"
   ]
  },
  {
   "cell_type": "code",
   "execution_count": null,
   "metadata": {},
   "outputs": [],
   "source": []
  }
 ],
 "metadata": {
  "kernelspec": {
   "display_name": "Coarray Fortran",
   "language": "Fortran",
   "name": "coarray-fortran"
  },
  "language_info": {
   "file_extension": ".f90",
   "mimetype": "text/plain",
   "name": "fortran"
  }
 },
 "nbformat": 4,
 "nbformat_minor": 2
}
