{
 "cells": [
  {
   "cell_type": "markdown",
   "metadata": {},
   "source": [
    "# Basics"
   ]
  },
  {
   "cell_type": "markdown",
   "metadata": {},
   "source": [
    "## A Very Simple Example\n",
    "\n",
    "A simple fortran code consists of a _main program_ containing a series of instructions. Modern versions typically have a file extension `.f90`, which signifies free format source. The `.f` extension indicates old-style fixed format.\n",
    "The use of the `!` symbol tells the compiler than any subsequent text on that line is a _comment_. Comments can have a line to themselves or they can follow code and it's always a good idea to use comments to make sure your code is well documented. **However**, don't hide code within comments; keep the two easily distinguishable to make the source easy to read."
   ]
  },
  {
   "cell_type": "code",
   "execution_count": null,
   "metadata": {},
   "outputs": [],
   "source": [
    "%num_images: 1\n",
    "Program hello              ! The name of the program is a matter of personal preference. \n",
    "\n",
    "  ! The Implict none command tells the compiler to treat undeclared variables as errors.\n",
    "  ! It's strongly advised to used this as it catches spelling mistakes and forces the\n",
    "  ! programmer to give each variable a type.\n",
    "  Implicit none\n",
    "  \n",
    "  Integer     :: myNumber  ! Declare the variable myNumber to be of type 'integer'\n",
    "  \n",
    "  myNumber = 25            ! Assign a value to a variable\n",
    "  \n",
    "  Print *, 'Hello World!'  ! Comments can also follow Fortran instructions\n",
    "  Print *, 'I like the number', myNumber\n",
    "\n",
    "End program                ! The program must terminate with this line."
   ]
  },
  {
   "cell_type": "markdown",
   "metadata": {},
   "source": [
    "### Compiling the Code\n",
    "\n",
    "The above code has to be compiled before it can be run, converting it from (near) English to machine language. Using the _GNU Fortran_ compiler and assuming the file containing the source was named `hello.f90`, this could be achieved as follows:\n",
    "\n",
    "```bash\n",
    "gfortran -o hello hello.f90\n",
    "```\n",
    "\n",
    "This will produce an executable file called `hello`, which can be executed on Linux:\n",
    "\n",
    "```bash\n",
    "./hello\n",
    "```"
   ]
  },
  {
   "cell_type": "markdown",
   "metadata": {},
   "source": [
    "### Code Description\n",
    "\n",
    "The above example, while basic, demonstrates some of the fundamental concepts that are applicable to any Fortran program:\n",
    "\n",
    " * Units or sections (in this case the _program_).\n",
    " * Variables, used to hold information.\n",
    "  * Type.\n",
    "  * Declaration.\n",
    "  * Assignment.\n",
    "  * De-referencing.\n",
    " * Output\n",
    "\n",
    "Each of these topics will be discussed in further detail, but will be familiar to those with experience in other programming languages."
   ]
  },
  {
   "cell_type": "markdown",
   "metadata": {},
   "source": [
    "### Exercise 1 - _Hello World!_\n",
    "\n",
    "Copy the above code into a text file named `ex1.f90`, using a text editor such as `nano`.\n",
    " * Compile and run it.\n",
    " * Change the output produced by the program. Does it still run?"
   ]
  },
  {
   "cell_type": "markdown",
   "metadata": {},
   "source": [
    "## Variables\n",
    "\n",
    "Fortran traditionally has used _implicit variable declaration_, whereby the variable name and type don't have to be fixed ahead of use. The _type_ of the variable was determined by the first character of the name and the variable name length was limited to 6 characters. This led to variables such as `ievnct`, representing an _integer_ used to hold an _event counter_. Needless to say, this made Fortran 77 and earlier versions hard to read and debug! Fortunately this has changed in Modern Fortran.\n",
    "\n",
    "### Variable declaration\n",
    "\n",
    "In Modern Fortran, variables should be declared before use, using the following form:\n",
    "\n",
    "```fortran\n",
    "TYPE(kind)<attributes>   :: varName\n",
    "```\n",
    "\n",
    "In practice, this results in declarations such as the following:\n",
    "\n",
    "```fortran\n",
    "Integer                  :: varName\n",
    "```\n",
    "\n",
    "The optional `attributes` list allows the author to specify additional conditions, such as that is is a read-only `parameter`. The optional `kind` parameter specifies the internal representation of the variable, which in practice means precision and range. Both these options will be covered in more depth.\n",
    "\n",
    "### Intrinsic Types\n",
    "\n",
    "The five basic (or intrinsic) data types supported by Fortran are as follows:\n",
    "\n",
    "| Type          | Example       | Description                                 |\n",
    "| ------------- | :------------ | :------------------------------------------ |\n",
    "| **INTEGER**   | `-25`         | Signed integer                              |\n",
    "| **REAL**      | `7.2e-3`      | Signed floating point                       |\n",
    "| **COMPLEX**   | `(1.0, 2.5)`  | Complex number                              |\n",
    "| **LOGICAL**   | `.true.`      | Boolean `.true.` or `.false.`               |\n",
    "| **CHARACTER** | `'A string'`  | Generally used as an array to form a string |\n",
    "\n",
    "Each of these types has a default size, or _kind_.\n",
    "\n",
    "**NOTE**: some compilers offer the `DOUBLE PRECISION` type or allow setting the size with the `kind=(x)`, where `x` is the number of bytes requested, but _these are not parts of standard Fortran_ and should be avoided  when writing portable code. Additionally, compilers allow changing the default size of the intrinsic types, so if you want to be sure that your code will run as expected on any architecture it's important to specify the size of every variable you declare.\n",
    "\n",
    "#### Specifying Intrinsic Type Storage Size\n",
    "\n",
    "Until recently this was a problem. However, recent Fortran standards introduced options. In Fortran 2003 it is possible to use the `selected_real_kind` intrinsic to define variable size:"
   ]
  },
  {
   "cell_type": "code",
   "execution_count": null,
   "metadata": {},
   "outputs": [],
   "source": [
    "%num_images: 1\n",
    "Program kind_demo\n",
    "  Implicit none\n",
    "  \n",
    "  ! What is the smallest number of bytes required to store a real value with\n",
    "  ! 15 digits of precision and an expotent range of 307?\n",
    "  Integer, parameter   :: dp = selected_real_kind(p=15, r=307)\n",
    " \n",
    "  ! Use this size to declare a Real variable that is stored using the \n",
    "  ! computed number of bytes.\n",
    "  Real(kind=dp)        :: myLongVar\n",
    "  \n",
    "  ! Assign it a value too large for a single precision real to check.\n",
    "  myLongVar = 2.0d200\n",
    "  \n",
    "  ! Print out the value\n",
    "  print *, 'myLongVar = ', myLongVar\n",
    "\n",
    "End program     "
   ]
  },
  {
   "cell_type": "markdown",
   "metadata": {},
   "source": [
    "Fortran 2008 and later contain predefined constants representing the precision and range of different sizes of real variables, and this is the recommended method of declaring them if available:"
   ]
  },
  {
   "cell_type": "code",
   "execution_count": null,
   "metadata": {},
   "outputs": [],
   "source": [
    "%num_images: 1\n",
    "Program iso_env\n",
    "  ! The iso_fortran_env module contains a number of definitions of ISO approved values\n",
    "  use, intrinsic  :: iso_fortran_env \n",
    "  \n",
    "  Implicit none\n",
    "\n",
    "  ! REAL64 is defined in the above module and is the same value as obtained\n",
    "  ! from using the selected_real_kind intrinsic.\n",
    "  Integer, parameter  :: dp = REAL64\n",
    "  \n",
    "  Real(kind=dp)       :: myLongVar\n",
    "  \n",
    "  myLongVar = 2.0d200\n",
    "  \n",
    "  print *, 'myLongVar = ', myLongVar\n",
    "\n",
    "End program"
   ]
  },
  {
   "cell_type": "markdown",
   "metadata": {},
   "source": [
    "### Exercise 2 - _Variables_\n",
    "\n",
    "Fortran uses a number of familiar mathematical operators to perform arithmetical operations.\n",
    " * Write a short program to declare variables of different types and try adding, subtracting, multiplying and dividing one by another.\n",
    " * In the above examples the exponential form of a real value is written in the form `2.0d200`, where **d** is short for _double precision exponential_. The standard form in Fortran is `2.0e200`, where **e** is for exponential. What happens when you change the code to that form? Can you explain the result?"
   ]
  },
  {
   "cell_type": "markdown",
   "metadata": {},
   "source": [
    "## Arrays\n",
    "\n",
    "Arrays in Fortran are collections of variables stored under a single identifier. An array can have multiple _dimensions_, allowing the creations of vectors, matrices, and higher order collections. Unlike more generic programming languages such a Python, every array element must be of the same type. So, whereas in Python the following is a perfectly valid _list_:\n",
    "\n",
    "```python\n",
    "my_list = []\n",
    "my_list = [12, 34.5, \"what is this string doing here?\", True]\n",
    "```\n",
    "\n",
    "...this would not be possible in Fortran. Whilst this may seem to be a loss of functionality, the big advantage of having a fixed data type is speed.\n",
    "\n",
    "### Array Declaration\n",
    "\n",
    "Declaring an array is similar to declaring a variable, but we must also specify the _dimensions_ and _size_ of each dimension. Following from the variable declaration in the previous section, an array declaration would look like this:\n",
    "\n",
    "```fortran\n",
    "TYPE(kind)<attributes>   :: arrName(xsize, ysize, ...)\n",
    "```\n",
    "\n",
    "The big difference is that after the array name we have to specify the size of each dimension, separated by a comma. For a 3X5 matrix, the declaration would look like this:\n",
    "\n",
    "```fortran\n",
    "Integer                  :: arrName(3, 5)\n",
    "```\n",
    "\n",
    "Unlike a Python list, we can't elect to leave the size empty and add elements as we go along. Again, this is a sacrifice of convenience in the name of speed. We'll see a way of getting around this later in the course, but for the moment assume that arrays are of fixed size and dimentionality.\n",
    "\n",
    "Assigning values to or retrieving values from an array is achieved by specifying the array element in brackets after the array name. For example:"
   ]
  },
  {
   "cell_type": "code",
   "execution_count": null,
   "metadata": {},
   "outputs": [],
   "source": [
    "%num_images: 1\n",
    "Program my_array\n",
    "  ! Declare a two dimentsional array.\n",
    "  Integer  :: arrName(3,5)\n",
    "  \n",
    "  ! Assign a value to one element of this array.\n",
    "  arrName(1,2) = 1000\n",
    "  \n",
    "  ! Print this value out to make sure it has been assigned correctly.\n",
    "  print *, 'arrName(1,2) = ', arrName(1,2)\n",
    "\n",
    "End program"
   ]
  },
  {
   "cell_type": "markdown",
   "metadata": {},
   "source": [
    "Try modifying this example to assign additional values."
   ]
  },
  {
   "cell_type": "markdown",
   "metadata": {},
   "source": [
    "### Whole Array Assignment\n",
    "\n",
    "As we've seen, it is possible to allocate array elements individually, but this can be inconvenient when you have a lot of elements to populate. We've also seen that it's not safe for elements to remain without allocated values as this will lead to unpredictable behaviour. In Modern Fortran it is possible to allocate a number of elements in one go:"
   ]
  },
  {
   "cell_type": "code",
   "execution_count": null,
   "metadata": {},
   "outputs": [],
   "source": [
    "%num_images: 1\n",
    "Program assign_elements\n",
    "  ! Declare a one dimentsional array.\n",
    "  Integer  :: arrName(6)\n",
    "  \n",
    "  ! Assign all elements at once.\n",
    "  arrName = [1, 100, 50, 75, 200, 300]\n",
    "  \n",
    "  ! Print out one of the values to check it has been correctly assigned.\n",
    "  print *, 'arrName(4) = ', arrName(4)\n",
    "\n",
    "End program"
   ]
  },
  {
   "cell_type": "markdown",
   "metadata": {},
   "source": [
    "Could we do this with arrays of more than one dimension? Not directly, but Fortran provides _intrinsic functions_ for manipulating arrays, so we could convert a one-dimensional array into a two-dimensional array in a single step:"
   ]
  },
  {
   "cell_type": "code",
   "execution_count": null,
   "metadata": {},
   "outputs": [],
   "source": [
    "%num_images: 1\n",
    "Program reshape_array\n",
    "  ! Declare a two dimentsional array.\n",
    "  Integer  :: arrName(2, 3)\n",
    "  \n",
    "  ! Shape a list of values to the dimensions of the array.\n",
    "  arrName = reshape([1, 100, 50, 75, 200, 300], shape(arrName))\n",
    "  \n",
    "  ! Print out some elements of the two dimensional array.\n",
    "  print *, 'arrName(1, 2) = ', arrName(1, 2)\n",
    "  print *, 'arrName(2, 1) = ', arrName(2, 1)\n",
    "\n",
    "End program"
   ]
  },
  {
   "cell_type": "markdown",
   "metadata": {},
   "source": [
    "This may not produce the results you were expecting. To explain it we need to know that, unlike many familiar langages such as C++, Fortran stores arrays in _column-major_ order. This means that a (2, 3) array looks like this:\n",
    "\n",
    "|[]()|[]()|[]()|\n",
    "| -- | -- | -- |\n",
    "| x  | x  | x  |\n",
    "| x  | x  | x  |\n",
    "\n",
    "When allocated, columns are filled first, then rows, so the fully populated array looks like this:\n",
    "\n",
    "|[]() |[]() |[]() |\n",
    "| --- | --- | --- |\n",
    "| 1   | 50  | 200 |\n",
    "| 100 | 75  | 300 |\n",
    "\n",
    "This has consequences when mixing C++ and Fortran code. Arrays must be _transposed_ when passed between functions, which takes time and memory. We'll take a look at this later on, but for the moment simply remember that Fortran arrays must be read column first."
   ]
  },
  {
   "cell_type": "markdown",
   "metadata": {},
   "source": [
    "### Exercise 3 - _Arrays_\n",
    "\n",
    " * Putting together the information found in the _variables_ and _arrays_ sections, can you write a program that creates an array of floating point values in a portable manner?\n",
    " * What happens if you try and print out an array element that hasn't been allocated? Should this be a concern?\n",
    " * What happens if you try and allocate a value outside of the array dimensions?\n",
    " * Ensure you know how multi-dimensional arrays work in Fortran by creating one and then assigning values to it in a single step.\n",
    " * Construct a floating-point array and print out some of its values."
   ]
  },
  {
   "cell_type": "markdown",
   "metadata": {},
   "source": [
    "## Intrinsics\n",
    "\n",
    "In Fortran terminology, an _intrinsic_ is a built-in function that performs a useful task and can be used without installing any additional packages. We've already encountered two, the `shape` and `reshape` instrinsics used to query the dimensions of an array, and reformat an array in a different shape, respectively. There are many such functions in Modern Fortran, and because of the history of the language a lot of them are very fast mathematical operations.\n",
    "\n",
    "A full list is beyond the scope of this material, but a short description of those supported by the _GNU Fortran Compiler_ may be found [here](https://gcc.gnu.org/onlinedocs/gfortran/Intrinsic-Procedures.html). A short summary of the more commonly used mathematical intrinsics can be found below:\n",
    "\n",
    "| Intrinsic | Return Type | Arguments | Description |\n",
    "| --------- | ----------- | --------- | ----------- |\n",
    "| **MAX**   | _Int_ or _Real_ | Comma separated list of values | Find the maximum value of a series of numbers |\n",
    "| **ABS**   | _Int_, _Real_ or _Complex_ | Single value | Return the absolute value of a number |\n",
    "| **EXP**   | _Real_ or _Complex_ | Single value | Return the base $_e$ exponential of a number |\n",
    "| **LOG**   | _Real_ or _Complex_ | Single value | Return the natural log of a number |\n",
    "| **DOT_PRODUCT** | _Int_, _Real_, _Complex_ or _Logical_ | Pair of one-dimensional arrays | Compute the dot product of two vectors |\n",
    "| **SIN** | _Real_ or _Complex_ | Single value | Computes the sine of an angle in radians |\n",
    "\n",
    "The following code shows some of these intrinsics in operation:"
   ]
  },
  {
   "cell_type": "code",
   "execution_count": null,
   "metadata": {},
   "outputs": [],
   "source": [
    "%num_images: 1\n",
    "Program math_intrinsic\n",
    "  use, intrinsic  :: iso_fortran_env \n",
    "  Implicit none\n",
    "\n",
    "  Integer, parameter  :: sp = REAL32\n",
    "\n",
    "  ! Declare some variables to store example results\n",
    "  Real(kind=sp) ::  x, y, z, a, b\n",
    "  Real(kind=sp) ::  xarr(6), yarr(6)\n",
    "  \n",
    "  ! Initialise our two vectors\n",
    "  xarr = [3,7,8,3,4,9]\n",
    "  yarr = [2,8,4,6,3,4]\n",
    "  \n",
    "  ! Return the maximum of a set of values\n",
    "  x = max(3.2, 7.6, 8.4, 3.1, 4.8, 9.3)\n",
    "  \n",
    "  ! Calculate the exp(3)\n",
    "  y = exp(3.0)\n",
    "  \n",
    "  ! Take the natural log of the previous example\n",
    "  z = log(y)\n",
    "  \n",
    "  ! Find the dot product of our two vectors\n",
    "  a = dot_product(xarr, yarr)\n",
    "  \n",
    "  ! Calculate sin(pi/2)\n",
    "  b = sin(3.14159/2)\n",
    "  \n",
    "  ! Print out the results\n",
    "  print *, 'maximum from list = ', x\n",
    "  print *, 'exp(3.0)          = ', y\n",
    "  print *, 'log(y)            = ', z\n",
    "  print *, 'dot_product       = ', a\n",
    "  print *, 'sin(pi/2)         = ', b\n",
    "\n",
    "End program"
   ]
  },
  {
   "cell_type": "markdown",
   "metadata": {},
   "source": [
    "### Exercise 4 - _Intrinsics_\n",
    "\n",
    " * Convert the `max()` calculation so that it accepts `xarr` as input.\n",
    " * Given what you now know about intrinsics, can you guess what the `use, intrinsic` line does? Don't worry if you're not sure - we'll be covering what `use` actually means later on."
   ]
  },
  {
   "cell_type": "markdown",
   "metadata": {},
   "source": [
    "## Arithmetic Operators\n",
    "\n",
    "Performing mathematical operations involves the use of four main operators, in addition to the mathematical intrinsics. They are:\n",
    "\n",
    "| Operator | Function       |\n",
    "| -------- | -------------- |\n",
    "| `**`     | Exponential    |\n",
    "| `*`      | Multiplication |\n",
    "| `/`      | Division       |\n",
    "| `+`      | Addition       |\n",
    "| `-`      | Subtraction    |\n",
    "\n",
    "This allows the creation of familiar calculations such as:\n",
    "\n",
    "```fortran\n",
    "x = y * z - 2\n",
    "```\n",
    "\n",
    "The above table lists operators by _precedence_, the order in which they are evaluated. The example just shown evaluates `y * z` first and then subtracts `2` from the result. Operations can be grouped through the use of brackets, effectively changing precedence. For example, the following calculation:\n",
    "\n",
    "```fortran\n",
    "x = y * (z - 2)\n",
    "```\n",
    "\n",
    "...multiplies `y` by `z - 2`, evaluating the result of the latter before the former."
   ]
  },
  {
   "cell_type": "code",
   "execution_count": null,
   "metadata": {},
   "outputs": [],
   "source": [
    "%num_images: 1\n",
    "Program maths_operators\n",
    "  use, intrinsic  :: iso_fortran_env \n",
    "  Implicit none\n",
    "\n",
    "  Integer, parameter  :: sp = REAL32\n",
    "\n",
    "  ! Declare a pair of test values and a variable to hold the result.\n",
    "  Real(kind=sp)  :: x, y, z\n",
    "  \n",
    "  ! Set some initial values\n",
    "  y = 12.8\n",
    "  z = 7.1\n",
    "  \n",
    "  ! Perform an operation\n",
    "  x = y * z - 2\n",
    "  \n",
    "  ! Print the result\n",
    "  print *, 'x = ', x\n",
    "\n",
    "End program"
   ]
  },
  {
   "cell_type": "markdown",
   "metadata": {},
   "source": [
    "### Exercise 5 - _Arithmetic Operators_\n",
    "\n",
    " * Modify the above code so that the subtraction component is not _minus 2_, but _minus 2 cubed_. Do you understand how precendence works in this situation.\n",
    " * Try using the other operators along with some intrinsic functions to perform useful calculations."
   ]
  },
  {
   "cell_type": "markdown",
   "metadata": {},
   "source": [
    "## Input and Output\n",
    "\n",
    "We've already seen some examples of _unformatted_ output:\n",
    "\n",
    "```fortran\n",
    "print *, 'This is unformatted output'\n",
    "```\n",
    "\n",
    "Unformatted in this context means free-form, without any specified type. This is what the `*` symbol signifies.\n",
    "\n",
    "Likewise, we can read unformatted text from the keyboard, by using the following command:\n",
    "\n",
    "```fortran\n",
    "character(15) :: myname\n",
    "read *, myname\n",
    "```\n",
    "\n",
    "Note that we have to declare a variable in which to store the input. In this case it is a string (array of characters). If the text we wish to enter is longer than 15 characters then we have to increase the array length or the additional characters will be discarded."
   ]
  },
  {
   "cell_type": "markdown",
   "metadata": {},
   "source": [
    "### Formatted I/O\n",
    "\n",
    "Whilst the above method works, it is much more useful to be able to input and output variables of specific types and formatting. We might want to store the input as a floating point variable of specified precision, for example. This can be achieved by using a _format specification_. To print out a float to 4 characters with 3 decimal places, we could write:"
   ]
  },
  {
   "cell_type": "code",
   "execution_count": null,
   "metadata": {},
   "outputs": [],
   "source": [
    "%num_images: 1\n",
    "Program format_float\n",
    "  Implicit none\n",
    "  \n",
    "  print \"(f5.3)\", 7.2\n",
    "end program"
   ]
  },
  {
   "cell_type": "markdown",
   "metadata": {},
   "source": [
    "Likewise, it is possible to read in a float with specific format. For this we'll need to run the program from the Linux terminal in order to provide input.\n",
    "\n",
    "| Program      | Directory         | Purpose                                               |\n",
    "| ------------ | ----------------- | ----------------------------------------------------- |\n",
    "| **readform** | `src/io/example1` | Read a floating point value with specified precision. |\n",
    "\n",
    "Go to the specified directory, and type the following:\n",
    "\n",
    "```bash\n",
    "make\n",
    "./readform\n",
    "```\n",
    "\n",
    "Then follow the instructions. What happens if you input a value that exceeds the limits of the format statement?"
   ]
  },
  {
   "cell_type": "markdown",
   "metadata": {},
   "source": [
    "A table of intrinsic types and common format statements can be found below:\n",
    "\n",
    "| Instrinsic Type | Format specifier | Format Statement | Example  | Output     |\n",
    "| --------------- | ---------------- | ---------------- | -------- | ---------- |\n",
    "| `float`         | **f**            | `fx.y`           | `f10.3`  | 123456.125 |\n",
    "| `float`         | **e**            | `ex.y`           | `e10.3`  | 0.123E+06  |\n",
    "| `float`         | **es**           | `esx.y`          | `es10.3` | 1.235E+05  |\n",
    "| `integer`       | **i**            | `ix`             | `i5`     | 12345      |\n",
    "| `character`     | **a**            | `ax`             | `a5`     | abcde      |\n",
    "\n",
    "In addition it is possible to repeat format statements by prefixing with an integer. For example:\n",
    "\n",
    "```fortran\n",
    "print \"(3i5)\", x, y, z\n",
    "```\n",
    "...would allow the printing out of three integers with identical specifications. We can also read multiple types in sequence and insert a space or spaces (signified by the `x` specifier) between them.\n",
    "\n",
    "```fortran\n",
    "print \"(i5,x,i5,x,i5)\", x, y, z\n",
    "```\n",
    "\n",
    "### Exercise 6 - _Formatted I/O_\n",
    "\n",
    " * Change the `readform.f90` fortran code so that it is capable of reading and writing different specifications. What happens when you try and print out a variable with a larger number of digits than is allowed by the format statement?"
   ]
  },
  {
   "cell_type": "markdown",
   "metadata": {},
   "source": [
    "### File I/O\n",
    "\n",
    "Frequently a Fortran program may be required to run non-interactively, without direct input from the user. For example, if it produces a large amount of data that needs to be stored or is run under a job scheduler like that used by _BlueCrystal_. In many cases it is convenient to read and write not to a terminal, but to a file.\n",
    "\n",
    "To read or write to a file, the file must first be _opened_ using the following statement:\n",
    "\n",
    "```fortran\n",
    "open(unit=<integer>, file=<string>)\n",
    "```\n",
    "\n",
    "Each file needs to be associated with a numberical _unit_, which is how Fortran keeps track of open files. The unit number must be unique for each file and can range from 9 to 99. The _file_ is the filename as it is stored on the filesystem used by the operating system on which the code is running. There are many additional optional arguments, but they are beyond the cope of this material.\n",
    "\n",
    "Once a file has been opened it may be read from or written to, using the `read` and `write` statements, which have identical syntax:\n",
    "\n",
    "```fortran\n",
    "read(unit=<integer>, fmt=<string>, iostat=<integer>, err=<integer>, end=<integer>) variable1, variable2, ...\n",
    "```\n",
    "\n",
    "When the file is no longer needed, it should be closed again:\n",
    "\n",
    "```fortran\n",
    "close(<integer>)\n",
    "```\n",
    "\n",
    "A description of the argument list follows:\n",
    "\n",
    "| Argument | Description                                          |\n",
    "| -------- | ---------------------------------------------------- |\n",
    "| `unit`   | Unit number as used by the `open` statement          |\n",
    "| `fmt`    | Optional format specifier                            |\n",
    "| `iostat` | Status variable set by the `read`/`write` statements |\n",
    "| `err`    | Program label to jump to in case of errors           |\n",
    "| `end`    | Program label to jump to in case of end of file      |\n",
    "\n",
    "\n",
    "Only the first argument is compulsory, plus the second if I/O is formatted. An example of reading from a file is listed below:\n",
    "\n",
    "| Program      | Directory         | Purpose                                               |\n",
    "| ------------ | ----------------- | ----------------------------------------------------- |\n",
    "| **readfile** | `src/io/example2` | Read formatted data from a file.                      |\n",
    "\n",
    "This code reads a file containing pairs of values. The file itself is just text so we need to tell the Fortran program that the values should be interpreted as floats, using the `fmt` argument. Once we reach the end of the file we can break out of read loop to a labelled statement. Make sure you understand how this works.\n",
    "\n",
    "#### Warning\n",
    "\n",
    "Fortran I/O, particularly when reading and writing to files, has not evolved as fast as the rest of the language and is still very Fortran-77-like. Branching to a labelled statement means breaking out of the `Do` loop and short-circuiting the flow of code, much like the use of the `GOTO` statement. For this reason, and to gain extra flexibility and functionality, it is strongly recommended not to use the built-in mechanisms for reading and writing large data files. Rather use one of the free and open source libraries that have been developed specifically for this purpose, such as [HDF5](https://www.hdfgroup.org/solutions/hdf5/)."
   ]
  },
  {
   "cell_type": "markdown",
   "metadata": {},
   "source": [
    "### Exercise 7 - _File I/O_\n",
    "\n",
    " * Fortran is completely ignorant of the contents of a file and it is up to the author to ensure that the contents are read in the correct format. As an example, try changing the format specification `(f4.2,x,f4.2)\"` during the read so that there are two or more spaces between the two values. How does this affect the values that have been read?\n",
    " * Modify the example so that instead of printing the values to the screen it instead writes them to a new file."
   ]
  },
  {
   "cell_type": "markdown",
   "metadata": {},
   "source": [
    "| [<- Introduction](Introduction.ipynb) | [Control and Interaction ->](Control%20and%20Interaction.ipynb) |\n",
    "| ------------------------------------- | ----------------------------------------------------------- |\n",
    "| []()                                  | []()                                                        |"
   ]
  }
 ],
 "metadata": {
  "kernelspec": {
   "display_name": "Coarray Fortran",
   "language": "Fortran",
   "name": "coarray-fortran"
  },
  "language_info": {
   "file_extension": ".f90",
   "mimetype": "text/plain",
   "name": "fortran"
  }
 },
 "nbformat": 4,
 "nbformat_minor": 2
}
