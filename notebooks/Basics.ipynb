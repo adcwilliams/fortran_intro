{
 "cells": [
  {
   "cell_type": "markdown",
   "metadata": {},
   "source": [
    "# Basics"
   ]
  },
  {
   "cell_type": "markdown",
   "metadata": {},
   "source": [
    "## A Very Simple Example\n",
    "\n",
    "A simple fortran code consists of a _main program_ containing a series of instructions. Modern versions typically have a file extension `.f90`, which signifies free format source. The `.f` extension indicates old-style fixed format.\n",
    "The use of the `!` symbol tells the compiler than any subsequent text on that line is a _comment_. Comments can have a line to themselves or they can follow code and it's always a good idea to use comments to make sure your code is well documented. **However**, don't hide code within comments; keep the two easily distinguishable to make the source easy to read."
   ]
  },
  {
   "cell_type": "code",
   "execution_count": null,
   "metadata": {},
   "outputs": [],
   "source": [
    "%num_images: 1\n",
    "Program hello              ! The name of the program is a matter of personal preference. \n",
    "\n",
    "  ! The Implict none command tells the compiler to treat undeclared variables as errors.\n",
    "  ! It's strongly advised to used this as it catches spelling mistakes and forces the\n",
    "  ! programmer to give each variable a type.\n",
    "  Implicit none\n",
    "  \n",
    "  Integer     :: myNumber  ! Declare the variable myNumber to be of type 'integer'\n",
    "  \n",
    "  myNumber = 25            ! Assign a value to a variable\n",
    "  \n",
    "  Print *, 'Hello World!'  ! Comments can also follow Fortran instructions\n",
    "  Print *, 'I like the number', myNumber\n",
    "\n",
    "End program                ! The program must terminate with this line."
   ]
  },
  {
   "cell_type": "markdown",
   "metadata": {},
   "source": [
    "### Compiling the Code\n",
    "\n",
    "The above code has to be compiled before it can be run, converting it from (near) English to machine language. Using the _GNU Fortran_ compiler and assuming the file containing the source was named `hello.f90`, this could be achieved as follows:\n",
    "\n",
    "```bash\n",
    "gfortran -o hello hello.f90\n",
    "```\n",
    "\n",
    "This will produce an executable file called `hello`, which can be executed on Linux:\n",
    "\n",
    "```bash\n",
    "./hello\n",
    "```"
   ]
  },
  {
   "cell_type": "markdown",
   "metadata": {},
   "source": [
    "### Code Description\n",
    "\n",
    "The above example, while basic, demonstrates some of the fundamental concepts that are applicable to any Fortran program:\n",
    "\n",
    " * Units or sections (in this case the _program_).\n",
    " * Variables, used to hold information.\n",
    "  * Type.\n",
    "  * Declaration.\n",
    "  * Assignment.\n",
    "  * De-referencing.\n",
    " * Output\n",
    "\n",
    "Each of these topics will be discussed in further detail, but will be familiar to those with experience in other programming languages."
   ]
  },
  {
   "cell_type": "markdown",
   "metadata": {},
   "source": [
    "### Exercise 1 - _Hello World!_\n",
    "\n",
    "Copy the above code into a text file named `ex1.f90`, using a text editor such as `nano`.\n",
    " * Compile and run it.\n",
    " * Change the output produced by the program. Does it still run?"
   ]
  },
  {
   "cell_type": "code",
   "execution_count": null,
   "metadata": {},
   "outputs": [],
   "source": []
  }
 ],
 "metadata": {
  "kernelspec": {
   "display_name": "Coarray Fortran",
   "language": "Fortran",
   "name": "coarray-fortran"
  },
  "language_info": {
   "file_extension": ".f90",
   "mimetype": "text/plain",
   "name": "fortran"
  }
 },
 "nbformat": 4,
 "nbformat_minor": 2
}
